{
 "cells": [
  {
   "cell_type": "code",
   "execution_count": null,
   "metadata": {},
   "outputs": [],
   "source": [
    "def multiplication(x,y):\n",
    "    result= x*y\n",
    "    return result\n",
    "\n",
    "def division(x,y):\n",
    "    if y==0:\n",
    "        print('\\n0 division error!')\n",
    "        while y==0:\n",
    "            y = float(input('Please enter a new divider value different than 0 \\n'))\n",
    "        \n",
    "        result=x/y\n",
    "    else:\n",
    "        result=x/y\n",
    "    return result\n",
    "\n",
    "def summation(x,y):\n",
    "    result=x+y\n",
    "    return result\n",
    "\n",
    "def subtraction(x,y):\n",
    "    result=x-y\n",
    "    return result\n",
    "\n",
    "def calculation(x,y,opt):\n",
    "    if opt==1:\n",
    "        result=summation(x,y)\n",
    "    elif opt==2:\n",
    "        result=extraction(x,y)\n",
    "    elif opt==3:\n",
    "        result=multiplication(x,y)\n",
    "    elif opt==4:\n",
    "        result=division(x,y)\n",
    "    return result\n",
    "\n",
    "def calculator():\n",
    "    print('Which calculation would you like to perform?\\n','Operations:', '1-Summation', '2-Subtraction', '3-Multiplicaiton', '4-Division', sep='\\n', end='\\n\\n')\n",
    "    \n",
    "    while True:\n",
    "        try:\n",
    "            opt=int(input('Please select an option listed above : '))\n",
    "            break\n",
    "        except ValueError:\n",
    "            print('Oops! Please enter a number!')\n",
    "\n",
    "    while opt >=5 or opt<=0:\n",
    "        opt= int(input('Please enter a number between 1 and 4 corresponding to an operation listed above : '))\n",
    "\n",
    "    x=float(input('Please enter the first number: '))\n",
    "    y=float(input('Please enter the second number: '))\n",
    "    result=calculation(x,y,opt)\n",
    "\n",
    "    print('\\nThe result is {}'.format(result,'.2f'))\n",
    " "
   ]
  },
  {
   "cell_type": "code",
   "execution_count": null,
   "metadata": {},
   "outputs": [],
   "source": [
    "print('-'*10 + 'Welcome to my calculator!'+ '-'*10 +'\\n')\n",
    "\n",
    "choice=''\n",
    "counter=1\n",
    "\n",
    "while choice!='N'and counter!=3:\n",
    "    calculator()\n",
    "    choice=input('Do you want to perform another calculation? (Y) Yes, (N) No \\n').upper()\n",
    "    counter= 1\n",
    "    if choice=='N':\n",
    "        break\n",
    "    elif choice!='Y' and choice!='N':\n",
    "        for i in range(1,3): \n",
    "            if counter==3 or choice=='Y' or choice=='N':\n",
    "                break\n",
    "            else:\n",
    "                print('If you want to perform another calculation, Please enter \"Y\" for Yes \"N\" for No.\\n(Remaining # of attempt/s: '+ str(3-counter) +')\\n')\n",
    "                choice=input().upper()\n",
    "                counter+= 1  \n",
    "\n",
    "print('Goodbye!')"
   ]
  },
  {
   "cell_type": "code",
   "execution_count": null,
   "metadata": {},
   "outputs": [],
   "source": []
  }
 ],
 "metadata": {
  "kernelspec": {
   "display_name": "Python 3",
   "language": "python",
   "name": "python3"
  },
  "language_info": {
   "codemirror_mode": {
    "name": "ipython",
    "version": 3
   },
   "file_extension": ".py",
   "mimetype": "text/x-python",
   "name": "python",
   "nbconvert_exporter": "python",
   "pygments_lexer": "ipython3",
   "version": "3.7.4"
  },
  "nbTranslate": {
   "displayLangs": [
    "*"
   ],
   "hotkey": "alt-t",
   "langInMainMenu": true,
   "sourceLang": "en",
   "targetLang": "fr",
   "useGoogleTranslate": true
  },
  "toc": {
   "base_numbering": 1,
   "nav_menu": {},
   "number_sections": true,
   "sideBar": true,
   "skip_h1_title": false,
   "title_cell": "Table of Contents",
   "title_sidebar": "Contents",
   "toc_cell": false,
   "toc_position": {},
   "toc_section_display": true,
   "toc_window_display": false
  },
  "varInspector": {
   "cols": {
    "lenName": 16,
    "lenType": 16,
    "lenVar": 40
   },
   "kernels_config": {
    "python": {
     "delete_cmd_postfix": "",
     "delete_cmd_prefix": "del ",
     "library": "var_list.py",
     "varRefreshCmd": "print(var_dic_list())"
    },
    "r": {
     "delete_cmd_postfix": ") ",
     "delete_cmd_prefix": "rm(",
     "library": "var_list.r",
     "varRefreshCmd": "cat(var_dic_list()) "
    }
   },
   "types_to_exclude": [
    "module",
    "function",
    "builtin_function_or_method",
    "instance",
    "_Feature"
   ],
   "window_display": false
  }
 },
 "nbformat": 4,
 "nbformat_minor": 4
}
